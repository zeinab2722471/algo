{
 "cells": [
  {
   "cell_type": "code",
   "execution_count": 1,
   "metadata": {},
   "outputs": [
    {
     "name": "stdout",
     "output_type": "stream",
     "text": [
      "Edge : Weight\n",
      "\n",
      "0-1:9\n",
      "1-3:19\n",
      "3-4:31\n",
      "3-2:51\n"
     ]
    }
   ],
   "source": [
    "# Prim's Algorithm in Python\n",
    "\n",
    "\n",
    "INF = 9999999\n",
    "# number of vertices in graph\n",
    "V = 5\n",
    "# create a 2d array of size 5x5\n",
    "# for adjacency matrix to represent graph\n",
    "G = [[0, 9, 75, 0, 0],\n",
    "     [9, 0, 95, 19, 42],\n",
    "     [75, 95, 0, 51, 66],\n",
    "     [0, 19, 51, 0, 31],\n",
    "     [0, 42, 66, 31, 0]]\n",
    "# create a array to track selected vertex\n",
    "# selected will become true otherwise false\n",
    "selected = [0, 0, 0, 0, 0]\n",
    "# set number of edge to 0\n",
    "no_edge = 0\n",
    "# the number of egde in minimum spanning tree will be\n",
    "# always less than(V - 1), where V is number of vertices in\n",
    "# graph\n",
    "# choose 0th vertex and make it true\n",
    "selected[0] = True\n",
    "# print for edge and weight\n",
    "print(\"Edge : Weight\\n\")\n",
    "while (no_edge < V - 1):\n",
    "    # For every vertex in the set S, find the all adjacent vertices\n",
    "    #, calculate the distance from the vertex selected at step 1.\n",
    "    # if the vertex is already in the set S, discard it otherwise\n",
    "    # choose another vertex nearest to selected vertex  at step 1.\n",
    "    minimum = INF\n",
    "    x = 0\n",
    "    y = 0\n",
    "    for i in range(V):\n",
    "        if selected[i]:\n",
    "            for j in range(V):\n",
    "                if ((not selected[j]) and G[i][j]):  \n",
    "                    # not in selected and there is an edge\n",
    "                    if minimum > G[i][j]:\n",
    "                        minimum = G[i][j]\n",
    "                        x = i\n",
    "                        y = j\n",
    "    print(str(x) + \"-\" + str(y) + \":\" + str(G[x][y]))\n",
    "    selected[y] = True\n",
    "    no_edge += 1"
   ]
  },
  {
   "cell_type": "code",
   "execution_count": null,
   "metadata": {},
   "outputs": [],
   "source": []
  }
 ],
 "metadata": {
  "kernelspec": {
   "display_name": "Python 3",
   "language": "python",
   "name": "python3"
  },
  "language_info": {
   "codemirror_mode": {
    "name": "ipython",
    "version": 3
   },
   "file_extension": ".py",
   "mimetype": "text/x-python",
   "name": "python",
   "nbconvert_exporter": "python",
   "pygments_lexer": "ipython3",
   "version": "3.8.5"
  }
 },
 "nbformat": 4,
 "nbformat_minor": 4
}
